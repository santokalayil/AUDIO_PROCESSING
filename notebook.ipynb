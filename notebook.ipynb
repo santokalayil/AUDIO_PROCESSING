{
 "cells": [
  {
   "cell_type": "code",
   "execution_count": 13,
   "metadata": {},
   "outputs": [],
   "source": [
    "# !bash ./install.sh"
   ]
  },
  {
   "cell_type": "code",
   "execution_count": 6,
   "metadata": {},
   "outputs": [],
   "source": [
    "import librosa"
   ]
  },
  {
   "cell_type": "markdown",
   "metadata": {},
   "source": [
    "<!-- <iframe \n",
    "    width=\"560\" height=\"315\" \n",
    "    src=\"https://www.youtube.com/embed/bnHHVo3j124\" \n",
    "    title=\"YouTube video player\" \n",
    "    frameborder=\"0\" \n",
    "    allow=\"accelerometer; autoplay; clipboard-write; encrypted-media; gyroscope; picture-in-picture\" \n",
    "    allowfullscreen\n",
    ">\n",
    "</iframe> -->\n",
    "\n",
    "\n",
    "## Midi Notes Mapping\n",
    "![image info](./images/midi_map.jpg)\n",
    "\n",
    "## Mapping Pitch to Frequency\n",
    "![image info](./images/mapping_pitch2freqency.jpg)"
   ]
  },
  {
   "cell_type": "code",
   "execution_count": 14,
   "metadata": {},
   "outputs": [
    {
     "data": {
      "text/plain": [
       "150186.66666666666"
      ]
     },
     "execution_count": 14,
     "metadata": {},
     "output_type": "execute_result"
    }
   ],
   "source": [
    "# Mapping pitch to frequency\n",
    "\n",
    "MIDI_NOTE_NUMBER_OF_A4 = 69\n",
    "FREQUENCY_OF_MIDI_NOTE_A4 = 440  # Hertz (measured in)\n",
    "# Number of semitones in an octave = 12\n",
    "# Hertz of A4 = 440\n",
    "def frequecy_of_pitch(pitch):  # pitch is midi note number for specific pitch like D3 etc.\n",
    "    global MIDI_NOTE_NUMBER_OF_A4\n",
    "    return (2 ** (pitch - MIDI_NOTE_NUMBER_OF_A4) / 12 ) * FREQUENCY_OF_MIDI_NOTE_A4  # * or dot (.) ? \n",
    "\n",
    "\n",
    "\n",
    "frequecy_of_pitch(pitch=81)"
   ]
  },
  {
   "cell_type": "code",
   "execution_count": 16,
   "metadata": {},
   "outputs": [
    {
     "data": {
      "text/plain": [
       "36.666666666666664"
      ]
     },
     "execution_count": 16,
     "metadata": {},
     "output_type": "execute_result"
    }
   ],
   "source": [
    "pitch = 69\n",
    "(2 ** (pitch - MIDI_NOTE_NUMBER_OF_A4) / 12 ) * FREQUENCY_OF_MIDI_NOTE_A4"
   ]
  },
  {
   "cell_type": "code",
   "execution_count": null,
   "metadata": {},
   "outputs": [],
   "source": []
  }
 ],
 "metadata": {
  "kernelspec": {
   "display_name": "Python 3.10.8 64-bit",
   "language": "python",
   "name": "python3"
  },
  "language_info": {
   "codemirror_mode": {
    "name": "ipython",
    "version": 3
   },
   "file_extension": ".py",
   "mimetype": "text/x-python",
   "name": "python",
   "nbconvert_exporter": "python",
   "pygments_lexer": "ipython3",
   "version": "3.10.8"
  },
  "orig_nbformat": 4,
  "vscode": {
   "interpreter": {
    "hash": "767d51c1340bd893661ea55ea3124f6de3c7a262a8b4abca0554b478b1e2ff90"
   }
  }
 },
 "nbformat": 4,
 "nbformat_minor": 2
}
