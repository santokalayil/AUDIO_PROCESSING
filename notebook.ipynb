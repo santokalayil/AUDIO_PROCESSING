{
 "cells": [
  {
   "cell_type": "code",
   "execution_count": 13,
   "metadata": {},
   "outputs": [],
   "source": [
    "# !bash ./install.sh"
   ]
  },
  {
   "cell_type": "code",
   "execution_count": 6,
   "metadata": {},
   "outputs": [],
   "source": [
    "import librosa"
   ]
  },
  {
   "cell_type": "markdown",
   "metadata": {},
   "source": [
    "<!-- <iframe \n",
    "    width=\"560\" height=\"315\" \n",
    "    src=\"https://www.youtube.com/embed/bnHHVo3j124\" \n",
    "    title=\"YouTube video player\" \n",
    "    frameborder=\"0\" \n",
    "    allow=\"accelerometer; autoplay; clipboard-write; encrypted-media; gyroscope; picture-in-picture\" \n",
    "    allowfullscreen\n",
    ">\n",
    "</iframe> -->\n",
    "\n",
    "\n",
    "## Midi Notes Mapping\n",
    "![image info](./images/midi_map.jpg)\n",
    "\n",
    "## Mapping Pitch to Frequency\n",
    "![image info](./images/mapping_pitch2freqency.jpg)"
   ]
  },
  {
   "cell_type": "code",
   "execution_count": 28,
   "metadata": {},
   "outputs": [
    {
     "data": {
      "text/plain": [
       "880.0"
      ]
     },
     "execution_count": 28,
     "metadata": {},
     "output_type": "execute_result"
    }
   ],
   "source": [
    "# Mapping pitch to frequency\n",
    "\n",
    "MIDI_NOTE_NUMBER_OF_A4 = 69\n",
    "FREQUENCY_OF_MIDI_NOTE_A4 = 440  # Hertz (measured in)  440hz is the frequency of A4 which is the reference point in music\n",
    "NOTES_PER_OCTAVE = 12\n",
    "\n",
    "def frequency_of_pitch(pitch):  # pitch is midi note number for specific pitch like D3 etc.\n",
    "    global MIDI_NOTE_NUMBER_OF_A4, FREQUENCY_OF_MIDI_NOTE_A4, NOTES_PER_OCTAVE\n",
    "    return 2 ** ((pitch - MIDI_NOTE_NUMBER_OF_A4) / NOTES_PER_OCTAVE) * FREQUENCY_OF_MIDI_NOTE_A4 \n",
    "\n",
    "\n",
    "\n",
    "frequency_of_pitch(pitch=81)  # 81 is the number of midi note A5 "
   ]
  },
  {
   "cell_type": "code",
   "execution_count": 30,
   "metadata": {},
   "outputs": [
    {
     "data": {
      "text/plain": [
       "880.0"
      ]
     },
     "execution_count": 30,
     "metadata": {},
     "output_type": "execute_result"
    }
   ],
   "source": [
    "frequency = lambda midi_note_number: 2 ** ((midi_note_number - 69) / 12) * 440 \n",
    "\n",
    "frequency(81)"
   ]
  },
  {
   "cell_type": "code",
   "execution_count": null,
   "metadata": {},
   "outputs": [],
   "source": []
  }
 ],
 "metadata": {
  "kernelspec": {
   "display_name": "Python 3.10.8 64-bit",
   "language": "python",
   "name": "python3"
  },
  "language_info": {
   "codemirror_mode": {
    "name": "ipython",
    "version": 3
   },
   "file_extension": ".py",
   "mimetype": "text/x-python",
   "name": "python",
   "nbconvert_exporter": "python",
   "pygments_lexer": "ipython3",
   "version": "3.10.8"
  },
  "orig_nbformat": 4,
  "vscode": {
   "interpreter": {
    "hash": "767d51c1340bd893661ea55ea3124f6de3c7a262a8b4abca0554b478b1e2ff90"
   }
  }
 },
 "nbformat": 4,
 "nbformat_minor": 2
}
